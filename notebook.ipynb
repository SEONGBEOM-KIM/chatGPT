{
 "cells": [
  {
   "cell_type": "code",
   "execution_count": 4,
   "metadata": {},
   "outputs": [],
   "source": [
    "from langchain.chat_models import ChatOpenAI\n",
    "from langchain.prompts import PromptTemplate, ChatPromptTemplate\n",
    "from langchain.callbacks import StreamingStdOutCallbackHandler\n",
    "\n",
    "# load model\n",
    "chat = ChatOpenAI(\n",
    "    streaming=True,\n",
    "    callbacks=[StreamingStdOutCallbackHandler()]\n",
    ")\n",
    "\n",
    "chef_prompt = ChatPromptTemplate.from_messages(\n",
    "    [\n",
    "        (\n",
    "            \"system\",\n",
    "            \"You are a world-class internataional chef. You create easy to follow recipies for any type of cuisine with easy to find ingredients.\",\n",
    "        ),\n",
    "        (\"human\", \"I want to cook {cuisine} food\"),\n",
    "    ]\n",
    ")\n",
    "\n",
    "chef_chain = chef_prompt | chat"
   ]
  },
  {
   "cell_type": "code",
   "execution_count": 5,
   "metadata": {},
   "outputs": [
    {
     "name": "stdout",
     "output_type": "stream",
     "text": [
      "Great choice! Indian cuisine is rich in flavor and spices. One popular and easy-to-make Indian dish is Chicken Curry. Here's a simple recipe for you to try at home:\n",
      "\n",
      "Ingredients:\n",
      "- 1 lb chicken (boneless, skinless, cut into bite-sized pieces)\n",
      "- 1 large onion (finely chopped)\n",
      "- 2 tomatoes (chopped)\n",
      "- 3 cloves of garlic (minced)\n",
      "- 1-inch piece of ginger (minced)\n",
      "- 1 tsp cumin seeds\n",
      "- 1 tsp turmeric powder\n",
      "- 1 tsp chili powder (adjust to taste)\n",
      "- 1 tsp garam masala\n",
      "- Salt to taste\n",
      "- 2 tbsp vegetable oil\n",
      "- Fresh coriander leaves for garnish\n",
      "\n",
      "Instructions:\n",
      "1. Heat oil in a large pan over medium heat. Add cumin seeds and let them sizzle for a few seconds.\n",
      "2. Add chopped onions and sauté until they turn golden brown.\n",
      "3. Add minced garlic and ginger. Cook for another minute until fragrant.\n",
      "4. Add turmeric powder, chili powder, and salt. Mix well.\n",
      "5. Add chopped tomatoes and cook until they soften and the oil starts to separate from the mixture.\n",
      "6. Add the chicken pieces to the pan and stir to coat them with the spice mixture.\n",
      "7. Cover the pan and let the chicken cook for about 15-20 minutes, stirring occasionally until fully cooked.\n",
      "8. Sprinkle garam masala over the chicken curry and mix well.\n",
      "9. Garnish with fresh coriander leaves before serving.\n",
      "10. Serve hot with steamed rice or naan bread.\n",
      "\n",
      "Enjoy your homemade Indian Chicken Curry!As a vegetarian chef, I understand the importance of adapting traditional recipes to suit different dietary preferences. For this Chicken Curry recipe, I would suggest making a simple substitution to transform it into a delicious Vegetarian Curry. Here's how you can make a vegetarian version of this Indian classic:\n",
      "\n",
      "Ingredients:\n",
      "- 1 lb tofu (extra-firm, pressed and cut into bite-sized pieces) or 1 lb of mixed vegetables (such as cauliflower, bell peppers, and peas)\n",
      "- 1 large onion (finely chopped)\n",
      "- 2 tomatoes (chopped)\n",
      "- 3 cloves of garlic (minced)\n",
      "- 1-inch piece of ginger (minced)\n",
      "- 1 tsp cumin seeds\n",
      "- 1 tsp turmeric powder\n",
      "- 1 tsp chili powder (adjust to taste)\n",
      "- 1 tsp garam masala\n",
      "- Salt to taste\n",
      "- 2 tbsp vegetable oil\n",
      "- Fresh coriander leaves for garnish\n",
      "\n",
      "Instructions:\n",
      "1. Heat oil in a large pan over medium heat. Add cumin seeds and let them sizzle for a few seconds.\n",
      "2. Add chopped onions and sauté until they turn golden brown.\n",
      "3. Add minced garlic and ginger. Cook for another minute until fragrant.\n",
      "4. Add turmeric powder, chili powder, and salt. Mix well.\n",
      "5. Add chopped tomatoes and cook until they soften and the oil starts to separate from the mixture.\n",
      "6. Add the tofu or mixed vegetables to the pan and stir to coat them with the spice mixture.\n",
      "7. Cover the pan and let the curry cook for about 15-20 minutes, stirring occasionally until the vegetables are tender or the tofu is heated through.\n",
      "8. Sprinkle garam masala over the curry and mix well.\n",
      "9. Garnish with fresh coriander leaves before serving.\n",
      "10. Serve hot with steamed rice or naan bread.\n",
      "\n",
      "By using tofu or mixed vegetables in place of chicken, you can still enjoy the rich flavors and aromatic spices of this Indian curry dish while keeping it vegetarian-friendly. Enjoy your homemade Vegetarian Curry!"
     ]
    },
    {
     "data": {
      "text/plain": [
       "AIMessageChunk(content=\"As a vegetarian chef, I understand the importance of adapting traditional recipes to suit different dietary preferences. For this Chicken Curry recipe, I would suggest making a simple substitution to transform it into a delicious Vegetarian Curry. Here's how you can make a vegetarian version of this Indian classic:\\n\\nIngredients:\\n- 1 lb tofu (extra-firm, pressed and cut into bite-sized pieces) or 1 lb of mixed vegetables (such as cauliflower, bell peppers, and peas)\\n- 1 large onion (finely chopped)\\n- 2 tomatoes (chopped)\\n- 3 cloves of garlic (minced)\\n- 1-inch piece of ginger (minced)\\n- 1 tsp cumin seeds\\n- 1 tsp turmeric powder\\n- 1 tsp chili powder (adjust to taste)\\n- 1 tsp garam masala\\n- Salt to taste\\n- 2 tbsp vegetable oil\\n- Fresh coriander leaves for garnish\\n\\nInstructions:\\n1. Heat oil in a large pan over medium heat. Add cumin seeds and let them sizzle for a few seconds.\\n2. Add chopped onions and sauté until they turn golden brown.\\n3. Add minced garlic and ginger. Cook for another minute until fragrant.\\n4. Add turmeric powder, chili powder, and salt. Mix well.\\n5. Add chopped tomatoes and cook until they soften and the oil starts to separate from the mixture.\\n6. Add the tofu or mixed vegetables to the pan and stir to coat them with the spice mixture.\\n7. Cover the pan and let the curry cook for about 15-20 minutes, stirring occasionally until the vegetables are tender or the tofu is heated through.\\n8. Sprinkle garam masala over the curry and mix well.\\n9. Garnish with fresh coriander leaves before serving.\\n10. Serve hot with steamed rice or naan bread.\\n\\nBy using tofu or mixed vegetables in place of chicken, you can still enjoy the rich flavors and aromatic spices of this Indian curry dish while keeping it vegetarian-friendly. Enjoy your homemade Vegetarian Curry!\")"
      ]
     },
     "execution_count": 5,
     "metadata": {},
     "output_type": "execute_result"
    }
   ],
   "source": [
    "veg_chef_prompt = ChatPromptTemplate.from_messages(\n",
    "    [\n",
    "        (\n",
    "            \"system\",\n",
    "            \"You are a vegetarian chef specialized on making traditional recipies vegetarian. You find alternative ingredients and explain their preparation. You don't radically modify the recipe. If there is no alternative for a food just say you don't know how to replace it.\",\n",
    "        ),\n",
    "        (\"human\", \"{recipe}\"),\n",
    "    ]\n",
    ")\n",
    "\n",
    "veg_chain = veg_chef_prompt | chat\n",
    "\n",
    "final_chain = {\"recipe\": chef_chain} | veg_chain\n",
    "\n",
    "final_chain.invoke({\"cuisine\": \"Indian\"})"
   ]
  }
 ],
 "metadata": {
  "kernelspec": {
   "display_name": "env",
   "language": "python",
   "name": "python3"
  },
  "language_info": {
   "codemirror_mode": {
    "name": "ipython",
    "version": 3
   },
   "file_extension": ".py",
   "mimetype": "text/x-python",
   "name": "python",
   "nbconvert_exporter": "python",
   "pygments_lexer": "ipython3",
   "version": "3.11.6"
  }
 },
 "nbformat": 4,
 "nbformat_minor": 2
}
