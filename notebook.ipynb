{
 "cells": [
  {
   "cell_type": "code",
   "execution_count": 3,
   "metadata": {},
   "outputs": [
    {
     "data": {
      "text/plain": [
       "'To make Italian pasta, you will need the following ingredients:\\n\\n- 2 cups of all-purpose flour\\n- 2 large eggs\\n- Pinch of salt\\n\\nHere is the step-by-step process to make Italian pasta:\\n\\n1. On a clean work surface, pour the flour and create a well in the center.\\n2. Crack the eggs into the well and add a pinch of salt.\\n3. Using a fork, slowly incorporate the flour into the eggs until a dough begins to form.\\n4. Use your hands to knead the dough for about 10-15 minutes until it is smooth and elastic.\\n5. Wrap the dough in plastic wrap and let it rest for about 30 minutes.\\n6. After the dough has rested, divide it into smaller portions and roll each portion into a thin sheet using a pasta machine or a rolling pin.\\n7. Once you have rolled out the dough, you can cut it into your desired shape, such as fettuccine, spaghetti, or ravioli.\\n8. Cook the pasta in a large pot of salted boiling water for about 2-4 minutes, or until al dente.\\n9. Serve the cooked pasta with your favorite sauce and toppings, such as marinara, pesto, or cheese.\\n\\nEnjoy your homemade Italian pasta!'"
      ]
     },
     "execution_count": 3,
     "metadata": {},
     "output_type": "execute_result"
    }
   ],
   "source": [
    "from langchain.chat_models import ChatOpenAI\n",
    "from langchain.callbacks import StreamingStdOutCallbackHandler\n",
    "from langchain.globals import set_llm_cache, set_debug\n",
    "from langchain.cache import InMemoryCache, SQLiteCache\n",
    "\n",
    "set_llm_cache(SQLiteCache(\"cache.db\"))\n",
    "set_debug(True)\n",
    "\n",
    "chat = ChatOpenAI(\n",
    "    streaming=True,\n",
    "    # callbacks=[StreamingStdOutCallbackHandler()]\n",
    ")\n",
    "\n",
    "chat.predict(\"How do you make italian pasta\")\n"
   ]
  },
  {
   "cell_type": "code",
   "execution_count": 4,
   "metadata": {},
   "outputs": [
    {
     "data": {
      "text/plain": [
       "'To make Italian pasta, you will need the following ingredients:\\n\\n- 2 cups of all-purpose flour\\n- 2 large eggs\\n- Pinch of salt\\n\\nHere is the step-by-step process to make Italian pasta:\\n\\n1. On a clean work surface, pour the flour and create a well in the center.\\n2. Crack the eggs into the well and add a pinch of salt.\\n3. Using a fork, slowly incorporate the flour into the eggs until a dough begins to form.\\n4. Use your hands to knead the dough for about 10-15 minutes until it is smooth and elastic.\\n5. Wrap the dough in plastic wrap and let it rest for about 30 minutes.\\n6. After the dough has rested, divide it into smaller portions and roll each portion into a thin sheet using a pasta machine or a rolling pin.\\n7. Once you have rolled out the dough, you can cut it into your desired shape, such as fettuccine, spaghetti, or ravioli.\\n8. Cook the pasta in a large pot of salted boiling water for about 2-4 minutes, or until al dente.\\n9. Serve the cooked pasta with your favorite sauce and toppings, such as marinara, pesto, or cheese.\\n\\nEnjoy your homemade Italian pasta!'"
      ]
     },
     "execution_count": 4,
     "metadata": {},
     "output_type": "execute_result"
    }
   ],
   "source": [
    "chat.predict(\"How do you make italian pasta\")\n"
   ]
  }
 ],
 "metadata": {
  "kernelspec": {
   "display_name": "env",
   "language": "python",
   "name": "python3"
  },
  "language_info": {
   "codemirror_mode": {
    "name": "ipython",
    "version": 3
   },
   "file_extension": ".py",
   "mimetype": "text/x-python",
   "name": "python",
   "nbconvert_exporter": "python",
   "pygments_lexer": "ipython3",
   "version": "3.11.6"
  }
 },
 "nbformat": 4,
 "nbformat_minor": 2
}
